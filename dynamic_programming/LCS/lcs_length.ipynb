{
 "cells": [
  {
   "cell_type": "markdown",
   "id": "5f7142a5-be3a-4994-bad2-63c046179a38",
   "metadata": {},
   "source": [
    "# Longest Common Subsequence (LCS) Problem Statement\n",
    "\n",
    "The **Longest Common Subsequence (LCS)** is a classic problem in computer science, particularly in string comparison and dynamic programming.\n",
    "\n",
    "## Problem Statement:\n",
    "\n",
    "Given two sequences (strings or arrays), the task is to find the **length of their longest common subsequence**. A subsequence is defined as a sequence that appears in the same relative order, but not necessarily consecutively.\n",
    "\n",
    "### Formal Definition:\n",
    "\n",
    "Let `X` and `Y` be two sequences:\n",
    "- `X = x1, x2, ..., xm` (length = `m`)\n",
    "- `Y = y1, y2, ..., yn` (length = `n`)\n",
    "\n",
    "The goal is to find the length of the **longest subsequence** that is present in both `X` and `Y`.\n",
    "\n",
    "### Example:\n",
    "\n",
    "1. `X = \"ABCBDAB\"`\n",
    "2. `Y = \"BDCABB\"`\n",
    "\n",
    "In this case, the longest common subsequence is `\"BCAB\"`, which has a length of `4`.\n",
    "\n",
    "### Key Points:\n",
    "- **Subsequence**: A subsequence is derived by deleting some (or none) of the characters in a sequence without changing the order of the remaining characters.\n",
    "- **Longest Common Subsequence (LCS)**: The LCS is the longest sequence that is a subsequence of both `X` and `Y`.\n",
    "- The LCS does **not** require the elements to be consecutive, but they must appear in the same relative order.\n",
    "\n",
    "### Example Walkthrough:\n",
    "\n",
    "Consider the two strings `X = \"ABCBDAB\"` and `Y = \"BDCABB\"`. We can identify several subsequences common to both, such as:\n",
    "- `\"BCAB\"` (length = 4)\n",
    "- `\"BDAB\"` (length = 4)\n",
    "- `\"BAB\"` (length = 3)\n",
    "\n",
    "The longest of these is `\"BCAB\"`, so the LCS length is `4`.\n"
   ]
  },
  {
   "cell_type": "markdown",
   "id": "531d567a-e362-4e6b-a0ee-7042eac51a38",
   "metadata": {},
   "source": [
    "## Base Condition\n",
    "```python3\n",
    "    if len(string1) == 0 or length(string2) == 0:\n",
    "        return 0\n",
    "```\n",
    "\n",
    "## Create a Choice Diagram\n",
    "<div style=\"text-align: center;\">\n",
    "    <img src=\"../../static/lcs.png\" alt=\"Description\" width=\"500\"/>\n",
    "</div>\n",
    "\n"
   ]
  },
  {
   "cell_type": "code",
   "execution_count": 1,
   "id": "223ce93b-0596-483b-881e-bfdd61e2a161",
   "metadata": {},
   "outputs": [],
   "source": [
    "def lcs_length(str1: str, str2: str, n: int, m: int):\n",
    "    if n==0 or m ==0:\n",
    "        return 0\n",
    "    if str1[n-1] == str2[m-1]: # n and m are not indices but the length of the strings\n",
    "         return 1 + lcs_length(str1, str2, n-1, m-1)\n",
    "    else:\n",
    "        return max(lcs_length(str1, str2, n, m-1), lcs_length(str1, str2, n-1, m))"
   ]
  },
  {
   "cell_type": "code",
   "execution_count": 2,
   "id": "68c8c5f9-b193-48af-b5de-200bd3db81b9",
   "metadata": {},
   "outputs": [
    {
     "data": {
      "text/plain": [
       "4"
      ]
     },
     "execution_count": 2,
     "metadata": {},
     "output_type": "execute_result"
    }
   ],
   "source": [
    "str1=\"ABCBDAB\"\n",
    "str2=\"BDCABB\"\n",
    "lcs_length(str1, str2, len(str1), len(str2))"
   ]
  },
  {
   "cell_type": "markdown",
   "id": "14e458bc-f74a-4059-81e7-1c6911f6af7c",
   "metadata": {},
   "source": [
    "# With Memoization"
   ]
  },
  {
   "cell_type": "code",
   "execution_count": 8,
   "id": "905d4002-833b-493a-a22f-da65bfb6c0ae",
   "metadata": {},
   "outputs": [],
   "source": [
    "def lcs_length_memo_matrix(str1, str2, n, m, dp):\n",
    "    if n == 0 or m == 0:\n",
    "        return 0\n",
    "\n",
    "    if dp[n][m] != -1:\n",
    "        return dp[n][m]\n",
    "\n",
    "    if str1[n - 1] == str2[m - 1]:\n",
    "        dp[n][m] = 1 + lcs_length_memo_matrix(str1, str2, n - 1, m - 1, dp)\n",
    "    else:\n",
    "        dp[n][m] = max(lcs_length_memo_matrix(str1, str2, n - 1, m, dp),\n",
    "                       lcs_length_memo_matrix(str1, str2, n, m - 1, dp))\n",
    "\n",
    "    return dp[n][m]\n",
    "\n",
    "def longest_common_subsequence(str1, str2):\n",
    "    n = len(str1)\n",
    "    m = len(str2)\n",
    "\n",
    "    dp = [[-1] * (m + 1) for _ in range(n + 1)]\n",
    "    \n",
    "    return lcs_length_memo_matrix(str1, str2, n, m, dp)"
   ]
  },
  {
   "cell_type": "code",
   "execution_count": 9,
   "id": "60a67cc6-37ae-4b77-a0b0-ce1b74da39b7",
   "metadata": {},
   "outputs": [
    {
     "name": "stdout",
     "output_type": "stream",
     "text": [
      "4\n"
     ]
    }
   ],
   "source": [
    "str1 = \"AGGTAB\"\n",
    "str2 = \"GXTXAYB\"\n",
    "print(longest_common_subsequence(str1, str2))"
   ]
  },
  {
   "cell_type": "markdown",
   "id": "31d9ce03-8e9f-42d7-bab0-7296d561c981",
   "metadata": {},
   "source": [
    "# Mmoization in Pythonic way"
   ]
  },
  {
   "cell_type": "code",
   "execution_count": 19,
   "id": "dc54e0a4-1bcc-495d-9461-9c13d589167d",
   "metadata": {},
   "outputs": [],
   "source": [
    "memo = {}\n",
    "def lcs_length_memo(str1: str, str2: str, n: int, m: int):\n",
    "    if n==0 or m ==0:\n",
    "        return 0\n",
    "    if (n, m) in memo:\n",
    "        return memo[(n, m)]\n",
    "    if str1[n-1] == str2[m-1]: # n and m are not indices but the length of the strings\n",
    "         memo[(n,m)] = 1 + lcs_length_memo(str1, str2, n-1, m-1)\n",
    "    else:\n",
    "        memo[(n,m)] = max(lcs_length_memo(str1, str2, n, m-1), lcs_length_memo(str1, str2, n-1, m))\n",
    "    return memo[(n,m)]"
   ]
  },
  {
   "cell_type": "code",
   "execution_count": 20,
   "id": "80a20e05-27b9-4ce9-862a-3ccf29212393",
   "metadata": {},
   "outputs": [
    {
     "data": {
      "text/plain": [
       "4"
      ]
     },
     "execution_count": 20,
     "metadata": {},
     "output_type": "execute_result"
    }
   ],
   "source": [
    "str1 = \"AGGTAB\"\n",
    "str2 = \"GXTXAYB\"\n",
    "lcs_length_memo(str1, str2, 6, 7)"
   ]
  },
  {
   "cell_type": "markdown",
   "id": "a509210b-5dd3-4163-b6c3-ad463e679566",
   "metadata": {},
   "source": [
    "# DP way"
   ]
  },
  {
   "cell_type": "code",
   "execution_count": 15,
   "id": "051f2a51-6366-4908-8367-7a4241941fec",
   "metadata": {},
   "outputs": [],
   "source": [
    "def lcs_length_dp(str1: str, str2: str, n: int, m: int):\n",
    "    dp = [[-1] * (m + 1) for _ in range(n + 1)]\n",
    "    for i in range(n+1):\n",
    "        for j in range(m+1):\n",
    "            if i==0 or j==0:\n",
    "                dp[i][j] = 0\n",
    "    for i in range(1, n+1):\n",
    "        for j in range(1, m+1):\n",
    "            if str1[i-1] == str2[j-1]:\n",
    "                 dp[i][j] = 1 + dp[i-1][j-1]\n",
    "            else:\n",
    "                dp[i][j] = max(dp[i][j-1],  dp[i-1][j])\n",
    "    return dp[n][m]"
   ]
  },
  {
   "cell_type": "code",
   "execution_count": 16,
   "id": "c79b0fcf-c7e4-4440-bf3f-e643abe9d976",
   "metadata": {},
   "outputs": [
    {
     "data": {
      "text/plain": [
       "0"
      ]
     },
     "execution_count": 16,
     "metadata": {},
     "output_type": "execute_result"
    }
   ],
   "source": [
    "str1 = \"\"\n",
    "str2 = \"\"\n",
    "lcs_length_dp(str1, str2, 0, 0)"
   ]
  },
  {
   "cell_type": "code",
   "execution_count": null,
   "id": "d718dc45-b4e4-45f7-80f7-95564efd86ea",
   "metadata": {},
   "outputs": [],
   "source": []
  }
 ],
 "metadata": {
  "kernelspec": {
   "display_name": "Python 3 (ipykernel)",
   "language": "python",
   "name": "python3"
  },
  "language_info": {
   "codemirror_mode": {
    "name": "ipython",
    "version": 3
   },
   "file_extension": ".py",
   "mimetype": "text/x-python",
   "name": "python",
   "nbconvert_exporter": "python",
   "pygments_lexer": "ipython3",
   "version": "3.10.13"
  }
 },
 "nbformat": 4,
 "nbformat_minor": 5
}

{
 "cells": [
  {
   "cell_type": "markdown",
   "id": "0362913a-c081-4b37-8fb3-89ca25127de6",
   "metadata": {},
   "source": [
    "### Problem Statement: Count the Number of Subsets with a Given Difference\n",
    "\n",
    "You are given an array `arr` of integers, and an integer `D` which represents a target difference. You need to find the number of subsets of `arr` such that the absolute difference between the sum of the elements in the subset and the sum of the elements not in the subset is exactly equal to `D`.\n",
    "\n",
    "Approach\n",
    "`| s1 - s2 | = D`.\n",
    "\n",
    "We know that s1 + s2 = sum_of_array , so the problem reduces to  \n",
    "`|s1 - (sum_of_array - s1)| = D`\n",
    "\n",
    "`s1 = (sum_of_array + D)/2`.\n",
    "\n",
    "\n",
    "**Objective**:\n",
    "We need to find all subsets for which `sum_of_subset = (sum_of_array + D)/2`\n",
    "\n",
    "We can utilize count_of_subset_sum problem with the calculated sum from above formula"
   ]
  },
  {
   "cell_type": "code",
   "execution_count": 11,
   "id": "b56c9285-933a-4adc-9596-928b119bdbb4",
   "metadata": {},
   "outputs": [],
   "source": [
    "def subset_sum_count(nums: list, target: int) -> int:\n",
    "    dp = []\n",
    "    dp = [[0 for _ in range(target+1)] for _ in range(len(nums)+1)]\n",
    "    for i in range(len(nums)+1):\n",
    "        for j in range(target+1):\n",
    "            if j == 0:\n",
    "                dp[i][j] = 1\n",
    "                continue\n",
    "            if nums[i-1] <= j:\n",
    "                dp[i][j] = dp[i-1][j-nums[i-1]] + dp[i-1][j]\n",
    "            else:\n",
    "                dp[i][j] = dp[i-1][j]\n",
    "    return dp[len(nums)][target]"
   ]
  },
  {
   "cell_type": "code",
   "execution_count": 17,
   "id": "5d2fa362-d639-418f-ba2c-419dee5f2ba0",
   "metadata": {},
   "outputs": [],
   "source": [
    "def subset_with_diff(nums: list, D: int):\n",
    "    target_sum = (sum(nums) + D)//2\n",
    "    return subset_sum_count(nums, target_sum)"
   ]
  },
  {
   "cell_type": "code",
   "execution_count": 18,
   "id": "5ff8b789-9873-4af9-9ecd-03c809d2f97d",
   "metadata": {},
   "outputs": [
    {
     "data": {
      "text/plain": [
       "1"
      ]
     },
     "execution_count": 18,
     "metadata": {},
     "output_type": "execute_result"
    }
   ],
   "source": [
    "nums = [5, 2, 6, 4]\n",
    "D = 3\n",
    "subset_with_diff(nums, D)"
   ]
  },
  {
   "cell_type": "code",
   "execution_count": 21,
   "id": "4a2a1603-7de3-4d31-9428-c17f65709bf7",
   "metadata": {},
   "outputs": [
    {
     "data": {
      "text/plain": [
       "3"
      ]
     },
     "execution_count": 21,
     "metadata": {},
     "output_type": "execute_result"
    }
   ],
   "source": [
    "nums = [1, 2, 3, 1]\n",
    "D = 1\n",
    "subset_with_diff(nums, D)"
   ]
  },
  {
   "cell_type": "markdown",
   "id": "2ff5eade-d3c5-4d85-85cc-7c10e2162565",
   "metadata": {},
   "source": [
    "### Another similar problem with different phrasing\n",
    "\n",
    "#### Problem Statement (Formalized)\n",
    "\n",
    "Given an array of integers `arr` and a target sum `target`, you need to find how many ways you can assign a \"+\" or a \"−\" sign to each element in the array such that the sum of the resulting values equals `target`.\n",
    "\n",
    "### Explanation with Example\n",
    "\n",
    "Let's go through an example to explain the concept:\n",
    "\n",
    "#### Example 1:\n",
    "\n",
    "**Input:**\n",
    "arr = [1, 1, 2, 3] \n",
    "target = 1\n",
    "\n",
    "\n",
    "We need to assign a \"+\" or a \"−\" sign to each element of the array `arr = [1, 1, 2, 3]` such that the total sum of the modified array equals the target, which is `1`.\n",
    "\n",
    "#### Step-by-Step Breakdown:\n",
    "\n",
    "The possible ways to assign signs to elements are:\n",
    "\n",
    "1. `+1 +1 +2 -3 = 1`\n",
    "2. `+1 -1 +2 +3 = 1`\n",
    "3. `-1 +1 +2 +3 = 1`\n",
    "4. `+1 +1 -2 +3 = 1`\n",
    "\n",
    "So, there are 4 ways to assign signs to the array elements such that the sum is equal to `1`.\n",
    "\n",
    "\n",
    "#### How to Solve the Problem?\n",
    "\n",
    "This problem is related to the same problem that we solved above. Here's the insight:\n",
    "\n",
    "1. **Target Partitioning:**  \n",
    "   The array can be split into two groups:\n",
    "   one for elements with a positive sign and the other for elements with a negative sign.\n",
    "\n",
    "   This essentially becomes a subset sum problem where we need to figure out how to split the elements such that their difference equals the target.\n",
    "\n",
    "   Let’s say:\n",
    "\n",
    "   - The sum of elements with a positive sign is `s1`.\n",
    "   - The sum of elements with a negative sign is `s2`.\n",
    "\n",
    "   We know how to solve:\n",
    "\n",
    "   s2 - s1 = D"
   ]
  },
  {
   "cell_type": "code",
   "execution_count": null,
   "id": "d618acd3-ae05-43c7-989c-285c69bed853",
   "metadata": {},
   "outputs": [],
   "source": []
  }
 ],
 "metadata": {
  "kernelspec": {
   "display_name": "Python 3 (ipykernel)",
   "language": "python",
   "name": "python3"
  },
  "language_info": {
   "codemirror_mode": {
    "name": "ipython",
    "version": 3
   },
   "file_extension": ".py",
   "mimetype": "text/x-python",
   "name": "python",
   "nbconvert_exporter": "python",
   "pygments_lexer": "ipython3",
   "version": "3.10.13"
  }
 },
 "nbformat": 4,
 "nbformat_minor": 5
}

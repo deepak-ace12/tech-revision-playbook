{
 "cells": [
  {
   "cell_type": "markdown",
   "id": "5fecc797-8b90-40b9-b67f-45d50bdd5502",
   "metadata": {},
   "source": [
    "## Problem Statement\n",
    "Check if an array can be divided into two subsets having same equal sum\n",
    "\n",
    "### Steps:\n",
    "\n",
    "1. First, check if the sum of the array is even. If it's not, the array can't be split into two equal parts.\n",
    "2. If the sum is even, divide the sum by 2, then use the subset_sum problem to check if there's a subset of the array that adds up to this half.\n",
    "3. If the subset_sum problem finds a subset that adds up to half of the total sum, then the array can be split into two equal parts. If not, it can't be divided equally."
   ]
  },
  {
   "cell_type": "code",
   "execution_count": 1,
   "id": "0ddd412b-ba4b-4a54-9169-feb8dd1eef6b",
   "metadata": {},
   "outputs": [],
   "source": [
    "def subset_sum(nums: list, target: int) -> bool:\n",
    "    dp = []\n",
    "    dp = [[False for _ in range(target+1)] for _ in range(len(nums)+1)]\n",
    "    for i in range(len(nums)+1):\n",
    "        for j in range(target+1):\n",
    "            if j == 0:\n",
    "                dp[i][j] = True\n",
    "                continue\n",
    "            if nums[i-1] <= j:\n",
    "                dp[i][j] = dp[i-1][j-nums[i-1]] or dp[i-1][j]\n",
    "            else:\n",
    "                dp[i][j] = dp[i-1][j]\n",
    "    return dp[len(nums)][target]"
   ]
  },
  {
   "cell_type": "code",
   "execution_count": 2,
   "id": "bdce199d-e0c7-414e-973c-b4fbb46f323c",
   "metadata": {},
   "outputs": [],
   "source": [
    "def equal_sum_partition(nums: list):\n",
    "    if sum(nums)%2 == 0:\n",
    "        half = sum(nums)//2\n",
    "        return subset_sum(nums, half)\n",
    "    else:\n",
    "        return False"
   ]
  },
  {
   "cell_type": "code",
   "execution_count": 3,
   "id": "e3767624-cc1b-4315-b906-d03bcce79883",
   "metadata": {},
   "outputs": [
    {
     "data": {
      "text/plain": [
       "True"
      ]
     },
     "execution_count": 3,
     "metadata": {},
     "output_type": "execute_result"
    }
   ],
   "source": [
    "nums = [1,2,3,4,7,1]\n",
    "equal_sum_partition(nums)"
   ]
  },
  {
   "cell_type": "code",
   "execution_count": 4,
   "id": "1368d44d-5118-4b0c-956d-14c1473e8f4f",
   "metadata": {},
   "outputs": [
    {
     "data": {
      "text/plain": [
       "False"
      ]
     },
     "execution_count": 4,
     "metadata": {},
     "output_type": "execute_result"
    }
   ],
   "source": [
    "nums = [6,4,]\n",
    "equal_sum_partition(nums)"
   ]
  },
  {
   "cell_type": "code",
   "execution_count": null,
   "id": "a234b754-3397-45d9-baf6-9e33fcc757c0",
   "metadata": {},
   "outputs": [],
   "source": []
  }
 ],
 "metadata": {
  "kernelspec": {
   "display_name": "Python 3 (ipykernel)",
   "language": "python",
   "name": "python3"
  },
  "language_info": {
   "codemirror_mode": {
    "name": "ipython",
    "version": 3
   },
   "file_extension": ".py",
   "mimetype": "text/x-python",
   "name": "python",
   "nbconvert_exporter": "python",
   "pygments_lexer": "ipython3",
   "version": "3.10.13"
  }
 },
 "nbformat": 4,
 "nbformat_minor": 5
}

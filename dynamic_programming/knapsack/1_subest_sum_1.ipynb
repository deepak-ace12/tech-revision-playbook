{
 "cells": [
  {
   "cell_type": "code",
   "execution_count": 1,
   "id": "86073b20-644e-49a3-83d6-7656f9f02902",
   "metadata": {},
   "outputs": [],
   "source": [
    "def subset_sum(nums: list, target: int) -> bool:\n",
    "    dp = []\n",
    "    dp = [[False for _ in range(target + 1)] for _ in range(len(nums) + 1)]\n",
    "    for i in range(len(nums) + 1):\n",
    "        dp[i][0] = True\n",
    "    for i in range(len(nums) + 1):\n",
    "        for j in range(target + 1):\n",
    "            if j == 0:\n",
    "                continue # already covered above\n",
    "            if nums[i - 1] <= j:\n",
    "                dp[i][j] = dp[i - 1][j - nums[i - 1]] or dp[i - 1][j]\n",
    "            else:\n",
    "                dp[i][j] = dp[i - 1][j]\n",
    "    return dp[len(nums)][target]"
   ]
  },
  {
   "cell_type": "code",
   "execution_count": 2,
   "id": "56082a0d-30bb-4f6c-b166-609a1aa92d24",
   "metadata": {},
   "outputs": [
    {
     "data": {
      "text/plain": [
       "True"
      ]
     },
     "execution_count": 2,
     "metadata": {},
     "output_type": "execute_result"
    }
   ],
   "source": [
    "nums = [7, 8, 9, 4, 89, 76]\n",
    "target = 100\n",
    "subset_sum(nums, target)"
   ]
  },
  {
   "cell_type": "markdown",
   "id": "b7ecb454-9984-4dbf-b4fc-b7c9bbcbffea",
   "metadata": {},
   "source": [
    "### Trying above code with Recursion"
   ]
  },
  {
   "cell_type": "code",
   "execution_count": 1,
   "id": "bf077c26-1841-469a-b119-93d159451a65",
   "metadata": {},
   "outputs": [],
   "source": [
    "def subset_sum_rec(nums: list, target: int, n: int):\n",
    "    if n==0 and target == 0:\n",
    "        return True\n",
    "    if n == 0 and target != 0:\n",
    "        return False\n",
    "    if nums[n-1] <= target:\n",
    "        return subset_sum_rec(nums, target-nums[n-1], n-1) or subset_sum_rec(nums, target, n-1)\n",
    "    else:\n",
    "        return subset_sum_rec(nums, target, n-1)"
   ]
  },
  {
   "cell_type": "code",
   "execution_count": 2,
   "id": "d7aa70cf-d677-4195-87e8-2f98c32e84f9",
   "metadata": {},
   "outputs": [
    {
     "data": {
      "text/plain": [
       "True"
      ]
     },
     "execution_count": 2,
     "metadata": {},
     "output_type": "execute_result"
    }
   ],
   "source": [
    "nums = [7, 8, 9, 4, 89, 76]\n",
    "target = 100\n",
    "subset_sum_rec(nums, target, 6)"
   ]
  },
  {
   "cell_type": "markdown",
   "id": "8b04489a-d79d-4919-801a-e064972e69a4",
   "metadata": {},
   "source": [
    "### With Memoization"
   ]
  },
  {
   "cell_type": "code",
   "execution_count": 13,
   "id": "8e60fb37-b13f-457c-b367-8cf03b4941c9",
   "metadata": {},
   "outputs": [],
   "source": [
    "memo = {}\n",
    "def subset_sum_rec(nums: list, target: int, n: int):\n",
    "    if target == 0 or not n < 0:\n",
    "        return True\n",
    "    if memo.get((n, target)):\n",
    "        return memo.get((n, target))\n",
    "    if nums[n-1] <= target:\n",
    "        memo[(n, target)] = subset_sum_rec(nums, target-nums[n-1], n-1) or subset_sum_rec(nums, target, n-1)\n",
    "    else:\n",
    "        memo[(n, target)] = subset_sum_rec(nums, target, n-1)\n",
    "    return memo[(n, target)]"
   ]
  },
  {
   "cell_type": "code",
   "execution_count": 14,
   "id": "ee787246-962f-4b09-ac98-b4cd60d02aa3",
   "metadata": {},
   "outputs": [
    {
     "data": {
      "text/plain": [
       "True"
      ]
     },
     "execution_count": 14,
     "metadata": {},
     "output_type": "execute_result"
    }
   ],
   "source": [
    "nums = [7, 8, 9, 4, 89, 76]\n",
    "target = 100\n",
    "subset_sum_rec(nums, target, 6)"
   ]
  },
  {
   "cell_type": "code",
   "execution_count": null,
   "id": "f851a563-449d-4663-ac8a-5f5612c76ba4",
   "metadata": {},
   "outputs": [],
   "source": []
  }
 ],
 "metadata": {
  "kernelspec": {
   "display_name": "Python 3 (ipykernel)",
   "language": "python",
   "name": "python3"
  },
  "language_info": {
   "codemirror_mode": {
    "name": "ipython",
    "version": 3
   },
   "file_extension": ".py",
   "mimetype": "text/x-python",
   "name": "python",
   "nbconvert_exporter": "python",
   "pygments_lexer": "ipython3",
   "version": "3.10.13"
  }
 },
 "nbformat": 4,
 "nbformat_minor": 5
}

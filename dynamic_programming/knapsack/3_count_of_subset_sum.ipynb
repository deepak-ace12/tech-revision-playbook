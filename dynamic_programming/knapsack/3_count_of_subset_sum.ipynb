{
 "cells": [
  {
   "cell_type": "markdown",
   "id": "ee5b9ca9-f72f-413e-8ce5-00fa7f8c7e4f",
   "metadata": {},
   "source": [
    "## Problem Statement\n",
    "\n",
    "This problem is a variation of the **Subset Sum** problem, where instead of simply determining whether there is a subset with a given sum, we are asked to find the **number of subsets** whose sum equals the target value.\n",
    "\n",
    "### Explanation:\n",
    "In the traditional **Subset Sum** problem, you are usually asked if there is at least one subset that sums up to a given target. In this variation, the goal is to count how many distinct subsets sum exactly to the target.\n",
    "\n",
    "### Example:\n",
    "\n",
    "Consider the array `arr = [1, 2, 3, 3]` and the target sum `5`.\n",
    "\n",
    "**Task:** Count how many subsets of `arr` have a sum equal to `5`.\n",
    "\n",
    "Possible subsets:\n",
    "- `[2, 3]` (sum = 5)\n",
    "- `[1, 2, 3]` (sum = 5)\n",
    "- `[2, 3]` (sum = 5)\n",
    "\n",
    "So, the number of subsets whose sum equals `5` is **3**.\n",
    "\n",
    "### Solution\n",
    "The approach is identical to the **Subset Sum** problem, with just three key differences:\n",
    "\n",
    "1. Instead of returning a boolean value (true/false), we return an **integer** that represents the count of subsets whose sum equals the target.\n",
    "2. We initialize the matrix with 1/0 instead of True/False\n",
    "3. Instead of using a logical OR operation, we use **addition**. In mathematical terms, logical OR is equivalent to addition (`+`), and logical AND is equivalent to multiplication (`*`), so we sum the number of ways to reach the target rather than just checking if it's possible."
   ]
  },
  {
   "cell_type": "code",
   "execution_count": 9,
   "id": "67a81e41-15a1-43e8-92cd-93938daa1725",
   "metadata": {},
   "outputs": [],
   "source": [
    "def subset_sum_count(nums: list, target: int) -> int:\n",
    "    dp = []\n",
    "    dp = [[0 for _ in range(target+1)] for _ in range(len(nums)+1)]\n",
    "    for i in range(len(nums)+1):\n",
    "        for j in range(target+1):\n",
    "            if j == 0:\n",
    "                dp[i][j] = 1\n",
    "                continue\n",
    "            if nums[i-1] <= j:\n",
    "                dp[i][j] = dp[i-1][j-nums[i-1]] + dp[i-1][j]\n",
    "            else:\n",
    "                dp[i][j] = dp[i-1][j]\n",
    "    return dp[len(nums)][target]"
   ]
  },
  {
   "cell_type": "code",
   "execution_count": 11,
   "id": "5b214b29-7485-467b-81c8-2903e7ff017e",
   "metadata": {},
   "outputs": [
    {
     "data": {
      "text/plain": [
       "3"
      ]
     },
     "execution_count": 11,
     "metadata": {},
     "output_type": "execute_result"
    }
   ],
   "source": [
    "nums = [2,3,4,5,8,10]\n",
    "target = 10\n",
    "subset_sum_count(nums, target)"
   ]
  },
  {
   "cell_type": "code",
   "execution_count": null,
   "id": "3e8a7633-e635-4a1e-98de-a0659a66f004",
   "metadata": {},
   "outputs": [],
   "source": []
  }
 ],
 "metadata": {
  "kernelspec": {
   "display_name": "Python 3 (ipykernel)",
   "language": "python",
   "name": "python3"
  },
  "language_info": {
   "codemirror_mode": {
    "name": "ipython",
    "version": 3
   },
   "file_extension": ".py",
   "mimetype": "text/x-python",
   "name": "python",
   "nbconvert_exporter": "python",
   "pygments_lexer": "ipython3",
   "version": "3.10.13"
  }
 },
 "nbformat": 4,
 "nbformat_minor": 5
}
